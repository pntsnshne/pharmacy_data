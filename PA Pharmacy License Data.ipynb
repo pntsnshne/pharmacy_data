{
 "cells": [
  {
   "cell_type": "code",
   "execution_count": 1,
   "metadata": {},
   "outputs": [],
   "source": [
    "import requests\n",
    "import pandas as pd\n",
    "import numpy as np\n",
    "from pandas.io.json import json_normalize\n",
    "pd.set_option('display.max_columns', 500)\n",
    "pd.set_option('display.width', 1000)\n",
    "from IPython.display import clear_output"
   ]
  },
  {
   "cell_type": "code",
   "execution_count": 15,
   "metadata": {},
   "outputs": [
    {
     "name": "stdout",
     "output_type": "stream",
     "text": [
      "Current Progress: 50\n"
     ]
    }
   ],
   "source": [
    "#First search: collecting all pharmacy basic information 152 pages total\n",
    "#Split request into 3 calls and dataframes since I got rejection for too many data communications or something\n",
    "\n",
    "raw_data = pd.DataFrame([])\n",
    "\n",
    "for i in range(1,51):\n",
    "    clear_output(wait=True)\n",
    "    payload = {\n",
    "    \"OptPersonFacility\":\"Facility\",\n",
    "    \"ProfessionID\":8,\n",
    "    \"LicenseTypeId\":113,\n",
    "    \"Country\":\"ALL\",\n",
    "    \"IsFacility\":1,\n",
    "    \"PageNo\":i\n",
    "    }\n",
    "    res = requests.post(url = \"https://www.pals.pa.gov/api/Search/SearchForPersonOrFacilty\", data = payload)\n",
    "    if res.status_code == 200:\n",
    "        results = res.json()\n",
    "        df_temp = pd.DataFrame(results)\n",
    "        raw_data = raw_data.append(df_temp,ignore_index=True,sort=False)\n",
    "        print(\"Current Progress: \" + str(i)  + \" out of 50\" )\n",
    "    else: \n",
    "        print(\"Request failed\")\n",
    "\n"
   ]
  },
  {
   "cell_type": "code",
   "execution_count": 16,
   "metadata": {},
   "outputs": [
    {
     "name": "stdout",
     "output_type": "stream",
     "text": [
      "Current Progress: 100\n"
     ]
    }
   ],
   "source": [
    "#call next set of results\n",
    "raw_data_2 = pd.DataFrame([])\n",
    "\n",
    "for i in range(51,101):\n",
    "    clear_output(wait=True)\n",
    "    payload = {\n",
    "    \"OptPersonFacility\":\"Facility\",\n",
    "    \"ProfessionID\":8,\n",
    "    \"LicenseTypeId\":113,\n",
    "    \"Country\":\"ALL\",\n",
    "    \"IsFacility\":1,\n",
    "    \"PageNo\":i\n",
    "    }\n",
    "    res = requests.post(url = \"https://www.pals.pa.gov/api/Search/SearchForPersonOrFacilty\", data = payload)\n",
    "    if res.status_code == 200:\n",
    "        results = res.json()\n",
    "        df_temp = pd.DataFrame(results)\n",
    "        raw_data_2 = raw_data_2.append(df_temp,ignore_index=True,sort=False)\n",
    "        print(\"Current Progress: \" + str(i)  + \" out of 100\")\n",
    "    else: \n",
    "        print(\"Request failed\")"
   ]
  },
  {
   "cell_type": "code",
   "execution_count": 19,
   "metadata": {},
   "outputs": [
    {
     "name": "stdout",
     "output_type": "stream",
     "text": [
      "Current Progress: 152 out of 152\n"
     ]
    }
   ],
   "source": [
    "#call last set of results\n",
    "raw_data_3 = pd.DataFrame([])\n",
    "for i in range(101,153):\n",
    "    clear_output(wait=True)\n",
    "    payload = {\n",
    "    \"OptPersonFacility\":\"Facility\",\n",
    "    \"ProfessionID\":8,\n",
    "    \"LicenseTypeId\":113,\n",
    "    \"Country\":\"ALL\",\n",
    "    \"IsFacility\":1,\n",
    "    \"PageNo\":i\n",
    "    }\n",
    "    res = requests.post(url = \"https://www.pals.pa.gov/api/Search/SearchForPersonOrFacilty\", data = payload)\n",
    "    if res.status_code == 200:\n",
    "        results = res.json()\n",
    "        df_temp = pd.DataFrame(results)\n",
    "        raw_data_3 = raw_data_3.append(df_temp,ignore_index=True,sort=False)\n",
    "        print(\"Current Progress: \" + str(i) + \" out of 152\" )\n",
    "    else: \n",
    "        print(\"Request failed\")"
   ]
  },
  {
   "cell_type": "code",
   "execution_count": 22,
   "metadata": {},
   "outputs": [],
   "source": [
    "#concatenating the 3 tables of raw data\n",
    "pharmacy_data = pd.concat([raw_data,raw_data_2,raw_data_3]).reset_index()"
   ]
  },
  {
   "cell_type": "code",
   "execution_count": 24,
   "metadata": {},
   "outputs": [
    {
     "name": "stdout",
     "output_type": "stream",
     "text": [
      "<class 'pandas.core.frame.DataFrame'>\n",
      "RangeIndex: 7585 entries, 0 to 7584\n",
      "Data columns (total 48 columns):\n",
      "index                       7585 non-null int64\n",
      "AddressLine1                0 non-null object\n",
      "AddressLine2                0 non-null object\n",
      "AddressLine3                7585 non-null object\n",
      "AddressLine4                7585 non-null object\n",
      "BoardName                   7585 non-null object\n",
      "City                        7585 non-null object\n",
      "ComplaintFromDate           7585 non-null object\n",
      "ComplaintNumber             0 non-null object\n",
      "ComplaintToDate             7585 non-null object\n",
      "Country                     7585 non-null object\n",
      "CountryShortCode            7585 non-null object\n",
      "County                      7585 non-null object\n",
      "DisciplinaryAction          0 non-null object\n",
      "DisciplinaryActionTypeId    0 non-null object\n",
      "DoingBusinessAs             7585 non-null object\n",
      "Emailid1                    7585 non-null object\n",
      "FacilityName                7585 non-null object\n",
      "FacilityStreetAddress       7585 non-null object\n",
      "FictitiousName              7585 non-null object\n",
      "FirstName                   7585 non-null object\n",
      "FullName                    0 non-null object\n",
      "IsFacility                  7585 non-null int64\n",
      "IsPersonFacility            7585 non-null bool\n",
      "LastName                    7585 non-null object\n",
      "LicenceType                 7585 non-null object\n",
      "LicenseId                   7585 non-null int64\n",
      "LicenseNumber               7585 non-null object\n",
      "LicenseTypeId               0 non-null object\n",
      "McareCourtFiled             7585 non-null object\n",
      "McareDocketNumber           7585 non-null object\n",
      "McareServed                 7585 non-null object\n",
      "MiddleName                  7585 non-null object\n",
      "NameSuffix                  7585 non-null object\n",
      "OptPersonFacility           0 non-null object\n",
      "PageNo                      7585 non-null int64\n",
      "PersonId                    7585 non-null int64\n",
      "PhoneNo1                    7585 non-null object\n",
      "ProfessionID                0 non-null object\n",
      "ProfessionType              7585 non-null object\n",
      "RecaptchaResponse           7585 non-null object\n",
      "RequestedFileId             0 non-null object\n",
      "RequestedFileName           0 non-null object\n",
      "Row                         7585 non-null int64\n",
      "State                       7585 non-null object\n",
      "Status                      7585 non-null object\n",
      "TotalRecords                7585 non-null int64\n",
      "zipcode                     7585 non-null object\n",
      "dtypes: bool(1), int64(7), object(40)\n",
      "memory usage: 2.7+ MB\n"
     ]
    }
   ],
   "source": [
    "#verifying all data is collected- expected 7585\n",
    "pharmacy_data.info()"
   ]
  }
 ],
 "metadata": {
  "kernelspec": {
   "display_name": "Python 3",
   "language": "python",
   "name": "python3"
  },
  "language_info": {
   "codemirror_mode": {
    "name": "ipython",
    "version": 3
   },
   "file_extension": ".py",
   "mimetype": "text/x-python",
   "name": "python",
   "nbconvert_exporter": "python",
   "pygments_lexer": "ipython3",
   "version": "3.7.3"
  }
 },
 "nbformat": 4,
 "nbformat_minor": 2
}
